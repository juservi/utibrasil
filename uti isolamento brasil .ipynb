{
 "cells": [
  {
   "cell_type": "code",
   "execution_count": 136,
   "metadata": {},
   "outputs": [],
   "source": [
    "import pandas as pd\n",
    "import numpy as np\n",
    "import folium"
   ]
  },
  {
   "cell_type": "code",
   "execution_count": 137,
   "metadata": {},
   "outputs": [],
   "source": [
    "df = pd.read_csv('leitos_uti_parcial_soma_bra.txt', sep = ';')"
   ]
  },
  {
   "cell_type": "code",
   "execution_count": 138,
   "metadata": {},
   "outputs": [],
   "source": [
    "mapa = folium.Map(location = [-15.794410, -47.887930],zoom_start = 5)"
   ]
  },
  {
   "cell_type": "code",
   "execution_count": 139,
   "metadata": {},
   "outputs": [],
   "source": [
    "for lat,lon,mun,uf,uti_1,uti_2,uti_3,uti_4,uti_5,uti_6,uti_7,uti_8,uti_9,uti_10,total in zip(df['latitude'],df['longitude'],df['municipio'],df['uf'],df['UTI adulto I'],\n",
    "             df['UTI adulto II'],df['UTI adulto III'],df['UTI coronariana tipo II -UCO tipo II'],\n",
    "             df['UTI coronariana tipo III - UCO tipo III'],df['UTI de Queimados'],\n",
    "             df['UTI pediátrica I'],df['UTI pediátrica II'],df['UTI pediátrica III'],\n",
    "             df['Unidade isolamento'],df['Total']):\n",
    "    if total<2:\n",
    "        r = 5\n",
    "    elif total>=2 and total <=100:\n",
    "        r = 10\n",
    "    elif total >100 and total <300:\n",
    "        r = 15\n",
    "    elif total >=300 and total < 500:\n",
    "        r = 20\n",
    "    elif total >=500 and total <1000:\n",
    "        r = 25\n",
    "    elif total >=1000 and total < 2000:\n",
    "        r = 30\n",
    "    elif total >=2000 and total <4000:\n",
    "        r = 35\n",
    "    else:\n",
    "        r = 40\n",
    "        \n",
    "        \n",
    "    \n",
    "    folium.CircleMarker([lat, lon], radius=r,\n",
    "                        \n",
    "                        popup = ('<strong>Município</strong>: ' + str(mun) + '<br>'\n",
    "                                 '<strong>UF</strong>: ' + str(uf) + '<br>'\n",
    "                                 '<strong>Total unidades</strong>: ' + str(total) + '<br>'\n",
    "                                 '<strong>UTI adulto I</strong>: ' + str(uti_1) + '<br>'\n",
    "                                 '<strong>UTI adulto II</strong>: ' + str(uti_2) + '<br>'\n",
    "                                 '<strong>UTI adulto III</strong>: ' + str(uti_3) + '<br>'\n",
    "                                 '<strong>UTI coronariana tipo II -UCO tipo II</strong>: ' + str(uti_4) + '<br>'\n",
    "                                 '<strong>UTI coronariana tipo III -UCO tipo III</strong>: ' + str(uti_5) + '<br>'\n",
    "                                 '<strong>UTI de Queimados</strong>: ' + str(uti_6) + '<br>'\n",
    "                                 '<strong>UTI pediátrica I</strong>: ' + str(uti_7) + '<br>'\n",
    "                                 '<strong>UTI pedriática II</strong>: ' + str(uti_8) + '<br>'\n",
    "                                 '<strong>UTI pediátrica III</strong>: ' + str(uti_9) + '<br>'\n",
    "                                 '<strong>Unidade isolamento</strong>: ' + str(uti_10) + '<br>'),\n",
    "                        fill_color = 'blue').add_to(mapa)\n",
    "    \n",
    "                                 "
   ]
  },
  {
   "cell_type": "code",
   "execution_count": 140,
   "metadata": {},
   "outputs": [],
   "source": [
    "mapa.save('utis.html')"
   ]
  },
  {
   "cell_type": "code",
   "execution_count": null,
   "metadata": {},
   "outputs": [],
   "source": []
  }
 ],
 "metadata": {
  "kernelspec": {
   "display_name": "Python 3",
   "language": "python",
   "name": "python3"
  },
  "language_info": {
   "codemirror_mode": {
    "name": "ipython",
    "version": 3
   },
   "file_extension": ".py",
   "mimetype": "text/x-python",
   "name": "python",
   "nbconvert_exporter": "python",
   "pygments_lexer": "ipython3",
   "version": "3.7.6"
  }
 },
 "nbformat": 4,
 "nbformat_minor": 2
}
